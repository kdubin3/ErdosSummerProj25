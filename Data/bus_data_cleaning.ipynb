{
 "cells": [
  {
   "cell_type": "code",
   "execution_count": 6,
   "id": "8217e44c-c5f4-42fb-8a5d-ce2932b3a886",
   "metadata": {},
   "outputs": [],
   "source": [
    "\"\"\"\n",
    "This code takes in a csv file from the CTA bus website, removes any\n",
    "incomplete bus data, and reformats the file to add columns for \n",
    "Weekday, Saturday, and Sunday - Holiday and saves the new\n",
    "dataframe to a csv file.\n",
    "\n",
    "Optional: column names as input?\n",
    "\"\"\"\n",
    "import pandas as pd\n",
    "\n",
    "def bus_cleaning(csv_file, col_names):\n",
    "    bus_data = pd.DataFrame()\n",
    "    bus = pd.read_csv(csv_file, names = col_names)\n",
    "\n",
    "    #determine how many bus lines to remove\n",
    "    value_counts_BUS = bus['BUS'].value_counts()\n",
    "    full_values = value_counts_BUS.max() #the is the number of counts for full data\n",
    "\n",
    "    #keep track of which buses have full data or not\n",
    "    buses_removed = []\n",
    "    buses_kept = []\n",
    "    for index, value in value_counts_BUS.items():\n",
    "        if value < full_values:\n",
    "            buses_removed.append(index)\n",
    "        else:\n",
    "            buses_kept.append(index)\n",
    "\n",
    "    #drop the rows for any bus lines that do not have full data\n",
    "    bus_cleaned = bus[~bus['BUS'].isin(buses_removed)]\n",
    "\n",
    "    #ensure the AVERAGE data is an integeger\n",
    "    bus['AVERAGE'] = pd.to_numeric(bus['AVERAGE'], errors='coerce')\n",
    "\n",
    "    # to add columns for the Weekday, Saturday, Sunday-Holiday data, we need to\n",
    "    # pivot the dataframe\n",
    "    bus_pivoted = bus.pivot_table(\n",
    "    index = ['BUS','YEAR','MONTH'],\n",
    "    columns = 'DAY_TYPE',\n",
    "    values = 'AVERAGE',\n",
    "    aggfunc='mean' #not sure if this part is needed\n",
    "    ).reset_index()\n",
    "\n",
    "    #create a new column for weekly average (i.e. sum of the days of the week)\n",
    "    bus_pivoted['Sum'] = bus_pivoted[['Weekday', 'Saturday', 'Sunday - Holiday']].sum(axis=1)\n",
    "    bus_pivoted['Sum'] = bus_pivoted['Sum'].round().astype('Int64')\n",
    "\n",
    "    #ensure the bus routes are strings\n",
    "    bus_pivoted['BUS'] = bus_pivoted['BUS'].astype('string')\n",
    "    bus_pivoted = bus_pivoted[bus_pivoted['BUS'] != '0']\n",
    "    #drop the '0' bus\n",
    "    \n",
    "\n",
    "    bus_pivoted = bus_pivoted[['BUS', 'YEAR', 'MONTH', 'Weekday', 'Saturday', 'Sunday - Holiday', 'Sum']]\n",
    "\n",
    "    #save new file\n",
    "    new_file_name = csv_file[:-4]+\"_cleaned.csv\"\n",
    "    bus_pivoted.to_csv(new_file_name, index = False)\n"
   ]
  },
  {
   "cell_type": "code",
   "execution_count": 7,
   "id": "7b6e4116-11ba-4956-82eb-1ccb31a43439",
   "metadata": {},
   "outputs": [],
   "source": [
    "bus_cleaning(\"CTA_Average_Bus_Ridership_1999_2024.csv\",['BUS', 'YEAR','MONTH','DAY_TYPE','AVERAGE'])\n"
   ]
  },
  {
   "cell_type": "code",
   "execution_count": null,
   "id": "fd9bb223-d174-4aaa-ae72-4ff9f19f446f",
   "metadata": {},
   "outputs": [],
   "source": []
  }
 ],
 "metadata": {
  "kernelspec": {
   "display_name": "Python 3 (ipykernel)",
   "language": "python",
   "name": "python3"
  },
  "language_info": {
   "codemirror_mode": {
    "name": "ipython",
    "version": 3
   },
   "file_extension": ".py",
   "mimetype": "text/x-python",
   "name": "python",
   "nbconvert_exporter": "python",
   "pygments_lexer": "ipython3",
   "version": "3.12.7"
  }
 },
 "nbformat": 4,
 "nbformat_minor": 5
}
